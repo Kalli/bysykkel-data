{
 "cells": [
  {
   "cell_type": "markdown",
   "metadata": {},
   "source": [
    "Let's build a model to try to predict how many bikes there will be at a given station. \n",
    "\n",
    "The following features can be deduced directly from the data: \n",
    "\n",
    "* Hour of day (people riding to work in the morning, from work in the afternoon)\n",
    "* Day of week (usage patterns may be different on weekends)\n",
    "* Month of the year (weather and seasonality may be a factor)\n",
    "\n",
    "Additionally we enrich the data with:\n",
    "\n",
    "* Elevation information for each station (from open-elevation.com)\n",
    "\n",
    "Start by importing and prepping the data"
   ]
  },
  {
   "cell_type": "code",
   "execution_count": 146,
   "metadata": {},
   "outputs": [],
   "source": [
    "import pandas as pd\n",
    "\n",
    "# read the archived data, because there is more of it\n",
    "df = pd.read_csv('station_status.archive-2022-08-2023-10.csv')\n",
    "\n",
    "df['last_reported'] = pd.to_datetime(df['last_reported'], unit='s')\n",
    "df['hour'] = df['last_reported'].dt.hour\n",
    "df['day_of_week'] = df['last_reported'].dt.dayofweek\n",
    "df['is_weekday'] = df['last_reported'].dt.weekday < 5\n",
    "df['month'] = df['last_reported'].dt.month\n",
    "\n",
    "station_information = pd.read_csv('station_information.csv')\n",
    "df = station_information.join(\n",
    "    df.reset_index().set_index('station_id'), on='station_id', lsuffix='_information'\n",
    ")\n",
    "station_elevation = pd.read_csv('station_elevation.csv')\n",
    "df = station_elevation.join(\n",
    "    df.reset_index().set_index('station_id'), on='station_id',\n",
    ")\n",
    "\n",
    "# Add capacity_used column, as the stations vary in size \n",
    "df['capacity_used'] = df['num_bikes_available'] / df['capacity']\n",
    "df.dropna(inplace=True)\n",
    "df['station_id'] = df['station_id'].astype('category')\n"
   ]
  },
  {
   "cell_type": "markdown",
   "metadata": {},
   "source": [
    "Split the data into test and training sets and define our features"
   ]
  },
  {
   "cell_type": "code",
   "execution_count": 147,
   "metadata": {},
   "outputs": [],
   "source": [
    "from sklearn.model_selection import train_test_split\n",
    "\n",
    "# Features and target\n",
    "columns = [\n",
    "    # category\n",
    "    'station_id',\n",
    "    # temporal features\n",
    "    'hour', \n",
    "    'day_of_week', \n",
    "    'month',\n",
    "    'is_weekday',\n",
    "    # location features\n",
    "    'lat', 'lon',\n",
    "    'elevation'\n",
    "]\n",
    "X = df[columns]\n",
    "# the variable we want to predict\n",
    "y_bikes = df['capacity_used']\n",
    "\n",
    "# Train-test split\n",
    "X_train, X_test, y_bikes_train, y_bikes_test = train_test_split(X, y_bikes, test_size=0.2, shuffle=False)\n"
   ]
  },
  {
   "cell_type": "code",
   "execution_count": null,
   "metadata": {},
   "outputs": [],
   "source": []
  },
  {
   "cell_type": "code",
   "execution_count": 148,
   "metadata": {},
   "outputs": [
    {
     "name": "stdout",
     "output_type": "stream",
     "text": [
      "Features: station_id, hour, day_of_week, month, is_weekday, lat, lon, elevation\n",
      "--------------------------\n",
      "MAE Bikes: 0.2657597743147935\n",
      "MSE Bikes: 0.10329297768802523\n",
      "--------------------------\n",
      "       Feature  Coefficient\n",
      "5          lat     3.554366\n",
      "6          lon     0.941189\n",
      "1         hour     0.000481\n",
      "0   station_id     0.000171\n",
      "2  day_of_week    -0.000387\n",
      "4   is_weekday    -0.000951\n",
      "7    elevation    -0.007064\n",
      "3        month    -0.020759\n",
      "--------------------------\n",
      "First 10 predictions:\n",
      "[0.38387199 0.38387199 0.38387199 0.38435263 0.38435263 0.38435263\n",
      " 0.38483327 0.38483327 0.38483327 0.38531391]\n",
      "--------------------------\n",
      "First 10 actual values:\n",
      "[0.20512821 0.20512821 0.20512821 0.20512821 0.20512821 0.20512821\n",
      " 0.23076923 0.23076923 0.23076923 0.23076923]\n",
      "--------------------------\n",
      "Diff prediction actual\n",
      "[-0.17874379 -0.17874379 -0.17874379 -0.17922443 -0.17922443 -0.17922443\n",
      " -0.15406404 -0.15406404 -0.15406404 -0.15454468]\n"
     ]
    }
   ],
   "source": [
    "from sklearn.linear_model import LinearRegression\n",
    "from sklearn.metrics import mean_absolute_error, mean_squared_error\n",
    "\n",
    "# Initialize and train the Linear Regression model\n",
    "model = LinearRegression()\n",
    "model.fit(X_train, y_bikes_train)\n",
    "\n",
    "# Make predictions\n",
    "y_bikes_pred = model.predict(X_test)\n",
    "\n",
    "# Evaluate the model\n",
    "mae_bikes = mean_absolute_error(y_bikes_test, y_bikes_pred)\n",
    "mse_bikes = mean_squared_error(y_bikes_test, y_bikes_pred)\n",
    "\n",
    "print(f\"Features: {', '.join(X.columns)}\")\n",
    "print('--------------------------')\n",
    "print(f\"MAE Bikes: {mae_bikes}\")\n",
    "print(f\"MSE Bikes: {mse_bikes}\")\n",
    "\n",
    "# View the coefficients\n",
    "coefficients = pd.DataFrame({\n",
    "    'Feature': X.columns,\n",
    "    'Coefficient': model.coef_\n",
    "})\n",
    "\n",
    "print('--------------------------')\n",
    "print(coefficients.sort_values(by='Coefficient', ascending=False))\n",
    "print('--------------------------')\n",
    "print('First 10 predictions:')\n",
    "print(y_bikes_pred[:10])  # Show first 10 predictions\n",
    "print('--------------------------')\n",
    "print('First 10 actual values:')\n",
    "print(y_bikes_test[:10].values)\n",
    "print('--------------------------')\n",
    "print('Diff prediction actual')\n",
    "print(y_bikes_test[:10].values - y_bikes_pred[:10])"
   ]
  }
 ],
 "metadata": {
  "kernelspec": {
   "display_name": ".venv",
   "language": "python",
   "name": "python3"
  },
  "language_info": {
   "codemirror_mode": {
    "name": "ipython",
    "version": 3
   },
   "file_extension": ".py",
   "mimetype": "text/x-python",
   "name": "python",
   "nbconvert_exporter": "python",
   "pygments_lexer": "ipython3",
   "version": "3.12.5"
  }
 },
 "nbformat": 4,
 "nbformat_minor": 2
}
