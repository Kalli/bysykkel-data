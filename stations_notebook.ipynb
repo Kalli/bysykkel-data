{
 "cells": [
  {
   "cell_type": "code",
   "execution_count": null,
   "metadata": {},
   "outputs": [],
   "source": [
    "import pandas as pd\n",
    "# Read our station csv files, join them and do some date processing\n",
    "station_status = pd.read_csv('station_status.csv')\n",
    "station_information = pd.read_csv('station_information.csv')\n",
    "stations = station_information.join(\n",
    "    station_status.reset_index().set_index('station_id'), on='station_id', lsuffix='_information'\n",
    ")\n",
    "stations = stations.reset_index()\n",
    "stations['last_reported'] = pd.to_datetime(stations['last_reported'], unit='s')\n",
    "stations['last_reported'] = stations['last_reported'].dt.tz_localize('UTC').dt.tz_convert('Europe/Oslo')\n",
    "stations = stations.sort_values(by=['station_id', 'last_reported'])"
   ]
  },
  {
   "cell_type": "code",
   "execution_count": null,
   "id": "f35c39ca",
   "metadata": {},
   "outputs": [],
   "source": [
    "# let's pick a random station and graph its available bikes and docks\n",
    "import numpy as np\n",
    "import plotly.io as pio\n",
    "pio.templates.default = \"plotly_dark\"\n",
    "import plotly.express as px\n",
    "import plotly.offline as py\n",
    "\n",
    "random_station_id = stations['station_id'][np.random.randint(len(stations))]\n",
    "selected_station = stations[stations['station_id'] == random_station_id]\n",
    "fig = px.line(\n",
    "    selected_station, x='last_reported', y=['num_bikes_available', 'num_docks_available'],\n",
    ")\n",
    "station_name = selected_station['name'].iloc[0]\n",
    "fig.update_layout(\n",
    "    title='Bysykkel station ' + station_name + ' bike and dock availability',\n",
    "    xaxis_title='Date / Time', yaxis_title='Number', \n",
    "    legend_title='Metric',\n",
    ")\n",
    "trace_names = {'num_bikes_available': 'Available bikes', 'num_docks_available': 'Available docks'} \n",
    "fig.for_each_trace(lambda t: t.update(\n",
    "        name = trace_names[t.name],\n",
    "        legendgroup = trace_names[t.name],\n",
    "        hovertemplate = t.hovertemplate.replace(t.name, trace_names[t.name])\n",
    "    )\n",
    ")\n",
    "fig"
   ]
  },
  {
   "cell_type": "markdown",
   "id": "c82faaa2",
   "metadata": {},
   "source": []
  },
  {
   "cell_type": "code",
   "execution_count": null,
   "id": "8f3873ed",
   "metadata": {},
   "outputs": [],
   "source": [
    "# Graph the number of times the number of bikes at a station changes by the hour of day\n",
    "stations['same_station_as_previous_row'] = stations['station_id'] == stations['station_id'].shift(-1)\n",
    "stations['change_in_bikes'] = stations['same_station_as_previous_row'] * stations['num_bikes_available'] != stations['num_bikes_available'].shift(-1)\n",
    "changed_by_hour = stations.groupby(stations.last_reported.dt.hour).change_in_bikes.sum()\n",
    "fig = px.line(\n",
    "    changed_by_hour, y='change_in_bikes', labels={'change_in_bikes': 'Changes in station bike availability', 'last_reported':'Hour of day'}\n",
    ")\n",
    "fig.update_layout(\n",
    "    title='Changes in station bike availability',\n",
    "    xaxis_title='Hour of day',\n",
    ")\n",
    "fig\n"
   ]
  },
  {
   "cell_type": "code",
   "execution_count": null,
   "id": "4d9992f4",
   "metadata": {},
   "outputs": [],
   "source": [
    "# Graph the absolute change in number of bikes at a station by the hour of day\n",
    "stations.change_in_bikes = abs(stations['num_bikes_available'] - stations['num_bikes_available'].shift(-1)) * stations['station_id'] == stations['station_id'].shift(-1)\n",
    "stations['change_in_bikes'] = stations['same_station_as_previous_row'] * abs(stations['num_bikes_available'] - stations['num_bikes_available'].shift(-1))\n",
    "\n",
    "changed_by_hour = stations.groupby(stations.last_reported.dt.hour).change_in_bikes.sum()\n",
    "fig = px.line(\n",
    "    changed_by_hour, y='change_in_bikes', labels={'change_in_bikes': 'Number of bike availability changes', 'last_reported': 'Hour of day'}\n",
    ")\n",
    "fig.update_layout(title='Absolute change in availability of bikes')\n",
    "fig"
   ]
  }
 ],
 "metadata": {
  "kernelspec": {
   "display_name": "Python 3.10.8 ('bysykkel-data': venv)",
   "language": "python",
   "name": "python3"
  },
  "language_info": {
   "codemirror_mode": {
    "name": "ipython",
    "version": 3
   },
   "file_extension": ".py",
   "mimetype": "text/x-python",
   "name": "python",
   "nbconvert_exporter": "python",
   "pygments_lexer": "ipython3",
   "version": "3.10.8"
  },
  "vscode": {
   "interpreter": {
    "hash": "4bd42648cbf7ee80f9130e8930f348e52f062778d2600df50a1c1a9ebc4ea0b2"
   }
  }
 },
 "nbformat": 4,
 "nbformat_minor": 5
}
